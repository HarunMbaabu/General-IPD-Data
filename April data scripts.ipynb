{
 "cells": [
  {
   "cell_type": "code",
   "execution_count": 1,
   "id": "4f1e7658-818f-47cf-a0cb-71dbac8cf563",
   "metadata": {},
   "outputs": [],
   "source": [
    "import pandas as pd"
   ]
  },
  {
   "cell_type": "code",
   "execution_count": 2,
   "id": "b5bb53ca-6e4e-41d3-968d-2efed31c4f98",
   "metadata": {},
   "outputs": [
    {
     "name": "stdout",
     "output_type": "stream",
     "text": [
      "DataFrame is written to Excel File successfully.\n"
     ]
    }
   ],
   "source": [
    "data = pd.read_csv(\"idp farmer order data .csv\")\n",
    "\n",
    "data.head()\n",
    "\n",
    "data.shape\n",
    "\n",
    "\n",
    "#Update date  for the desired report \n",
    "start_date = '2022-04-01'\n",
    "end_date = '2022-05-01'\n",
    "\n",
    "mask = (data['creationDate'] > start_date) & (data['creationDate'] <= end_date) \n",
    "\n",
    "\n",
    "data = data.loc[mask]\n",
    "\n",
    "\n",
    "data[\"creationDate\"] = pd.to_datetime(data[\"creationDate\"])  \n",
    "\n",
    "\n",
    "data = data.sort_values(by=\"creationDate\", ascending=False)\n",
    "\n",
    "\n",
    "#data.isnull().sum() \n",
    "\n",
    "data['creationDate'] = pd.to_datetime(data['creationDate']).dt.date \n",
    "\n",
    "\n",
    "#Alsowadetermining the name of the file\n",
    "data_file_name = 'April Input Platform Data .xlsx'\n",
    " \n",
    " \n",
    "#saving the excel\n",
    "data.to_excel(data_file_name)\n",
    "print('DataFrame is written to Excel File successfully.')"
   ]
  }
 ],
 "metadata": {
  "kernelspec": {
   "display_name": "Python 3",
   "language": "python",
   "name": "python3"
  },
  "language_info": {
   "codemirror_mode": {
    "name": "ipython",
    "version": 3
   },
   "file_extension": ".py",
   "mimetype": "text/x-python",
   "name": "python",
   "nbconvert_exporter": "python",
   "pygments_lexer": "ipython3",
   "version": "3.8.8"
  }
 },
 "nbformat": 4,
 "nbformat_minor": 5
}
