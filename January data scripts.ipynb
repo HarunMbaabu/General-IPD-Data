{
 "cells": [
  {
   "cell_type": "code",
   "execution_count": null,
   "id": "46a15b2e-e70e-40db-b973-5054d7d19ead",
   "metadata": {},
   "outputs": [],
   "source": [
    "import pandas as pd "
   ]
  },
  {
   "cell_type": "code",
   "execution_count": 1,
   "id": "f377e362-2cff-4260-88c3-8ec95d3bf1d2",
   "metadata": {},
   "outputs": [
    {
     "data": {
      "application/javascript": [
       "\n",
       "        if (window._pyforest_update_imports_cell) { window._pyforest_update_imports_cell('import pandas as pd'); }\n",
       "    "
      ],
      "text/plain": [
       "<IPython.core.display.Javascript object>"
      ]
     },
     "metadata": {},
     "output_type": "display_data"
    },
    {
     "data": {
      "application/javascript": [
       "\n",
       "        if (window._pyforest_update_imports_cell) { window._pyforest_update_imports_cell('import pandas as pd'); }\n",
       "    "
      ],
      "text/plain": [
       "<IPython.core.display.Javascript object>"
      ]
     },
     "metadata": {},
     "output_type": "display_data"
    },
    {
     "data": {
      "application/javascript": [
       "\n",
       "        if (window._pyforest_update_imports_cell) { window._pyforest_update_imports_cell('import pandas as pd'); }\n",
       "    "
      ],
      "text/plain": [
       "<IPython.core.display.Javascript object>"
      ]
     },
     "metadata": {},
     "output_type": "display_data"
    },
    {
     "name": "stdout",
     "output_type": "stream",
     "text": [
      "DataFrame is written to Excel File successfully.\n"
     ]
    }
   ],
   "source": [
    "data = pd.read_csv(\"idp farmer order data .csv\")\n",
    "\n",
    "data.head()\n",
    "\n",
    "data.shape\n",
    "\n",
    "\n",
    "#Update date  for the desired report \n",
    "start_date = '2022-01-01'\n",
    "end_date = '2022-02-01'\n",
    "\n",
    "mask = (data['creationDate'] > start_date) & (data['creationDate'] <= end_date) \n",
    "\n",
    "\n",
    "data = data.loc[mask]\n",
    "\n",
    "\n",
    "data[\"creationDate\"] = pd.to_datetime(data[\"creationDate\"])  \n",
    "\n",
    "\n",
    "data = data.sort_values(by=\"creationDate\", ascending=False)\n",
    "\n",
    "\n",
    "#data.isnull().sum() \n",
    "\n",
    "data['creationDate'] = pd.to_datetime(data['creationDate']).dt.date \n",
    "\n",
    "\n",
    "#Alsowadetermining the name of the file\n",
    "data_file_name = 'January Input Platform Data .xlsx'\n",
    " \n",
    "#saving the excel\n",
    "data.to_excel(data_file_name)\n",
    "print('DataFrame is written to Excel File successfully.')"
   ]
  },
  {
   "cell_type": "code",
   "execution_count": null,
   "id": "626a4f43-c8b5-4575-92a1-0dbafa7ea4d9",
   "metadata": {},
   "outputs": [],
   "source": []
  }
 ],
 "metadata": {
  "kernelspec": {
   "display_name": "Python 3",
   "language": "python",
   "name": "python3"
  },
  "language_info": {
   "codemirror_mode": {
    "name": "ipython",
    "version": 3
   },
   "file_extension": ".py",
   "mimetype": "text/x-python",
   "name": "python",
   "nbconvert_exporter": "python",
   "pygments_lexer": "ipython3",
   "version": "3.8.8"
  }
 },
 "nbformat": 4,
 "nbformat_minor": 5
}
