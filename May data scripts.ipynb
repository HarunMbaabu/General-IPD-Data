{
 "cells": [
  {
   "cell_type": "code",
   "execution_count": 1,
   "id": "26d20333-190d-4ee9-871a-e308c7ad377a",
   "metadata": {},
   "outputs": [],
   "source": [
    "import pandas as pd"
   ]
  },
  {
   "cell_type": "code",
   "execution_count": 2,
   "id": "f85b224b-14f7-42b2-8927-f0bf1cc1ee3d",
   "metadata": {},
   "outputs": [
    {
     "name": "stdout",
     "output_type": "stream",
     "text": [
      "DataFrame is written to Excel File successfully.\n"
     ]
    }
   ],
   "source": [
    "data = pd.read_csv(\"idp farmer order data .csv\")\n",
    "\n",
    "data.head()\n",
    "\n",
    "data.shape\n",
    "\n",
    "\n",
    "#Update date  for the desired report \n",
    "start_date = '2022-05-01'\n",
    "end_date = '2022-06-01'\n",
    "\n",
    "mask = (data['creationDate'] > start_date) & (data['creationDate'] <= end_date) \n",
    "\n",
    "\n",
    "data = data.loc[mask]\n",
    "\n",
    "\n",
    "data[\"creationDate\"] = pd.to_datetime(data[\"creationDate\"])  \n",
    "\n",
    "\n",
    "data = data.sort_values(by=\"creationDate\", ascending=False)\n",
    "\n",
    "\n",
    "#data.isnull().sum() \n",
    "\n",
    "data['creationDate'] = pd.to_datetime(data['creationDate']).dt.date \n",
    "\n",
    "\n",
    "#Alsowadetermining the name of the file\n",
    "data_file_name = 'May Input Platform Data .xlsx'\n",
    " \n",
    " \n",
    "#saving the excel\n",
    "data.to_excel(data_file_name)\n",
    "print('DataFrame is written to Excel File successfully.')"
   ]
  }
 ],
 "metadata": {
  "kernelspec": {
   "display_name": "Python 3",
   "language": "python",
   "name": "python3"
  },
  "language_info": {
   "codemirror_mode": {
    "name": "ipython",
    "version": 3
   },
   "file_extension": ".py",
   "mimetype": "text/x-python",
   "name": "python",
   "nbconvert_exporter": "python",
   "pygments_lexer": "ipython3",
   "version": "3.8.8"
  }
 },
 "nbformat": 4,
 "nbformat_minor": 5
}
