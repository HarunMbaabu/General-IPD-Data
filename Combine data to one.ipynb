{
 "cells": [
  {
   "cell_type": "code",
   "execution_count": 10,
   "id": "afde124f-048c-4660-b7ae-a31bbc55b5db",
   "metadata": {},
   "outputs": [],
   "source": [
    "import pandas as pd "
   ]
  },
  {
   "cell_type": "code",
   "execution_count": 11,
   "id": "5e1c76c4-dbc8-464f-8adc-b6524330693a",
   "metadata": {},
   "outputs": [],
   "source": [
    "january = \"Data/January Input Platform Data .xlsx\"\n",
    "\n",
    "february = \"Data/February Input Platform Data .xlsx\"\n",
    "\n",
    "march = \"Data/March Input Platform Data .xlsx\"\n",
    "\n",
    "april = \"Data/April Input Platform Data .xlsx\"\n",
    "\n",
    "may = \"Data/May Input Platform Data .xlsx\"\n",
    "\n",
    "june = \"Data/June Input Platform Data  00.06.30.xlsx\"\n",
    " \n",
    "july = \"Data/July Input Platform Data .xlsx\"\n",
    "\n"
   ]
  },
  {
   "cell_type": "code",
   "execution_count": 12,
   "id": "224e43f6-87e4-4d9c-a930-aaa69585ee14",
   "metadata": {},
   "outputs": [],
   "source": [
    "wholedata = pd.concat(\n",
    "   map(pd.read_excel, [january, february, march, april, may, june, july]), ignore_index=True)"
   ]
  },
  {
   "cell_type": "code",
   "execution_count": 16,
   "id": "54b867cb-b6fe-4965-a3fb-bca01b13990e",
   "metadata": {},
   "outputs": [
    {
     "data": {
      "text/plain": [
       "(143990, 19)"
      ]
     },
     "execution_count": 16,
     "metadata": {},
     "output_type": "execute_result"
    }
   ],
   "source": [
    "wholedata.shape"
   ]
  },
  {
   "cell_type": "code",
   "execution_count": null,
   "id": "7eb7aaf8-4fec-48b6-9a92-9eba7fbd95b5",
   "metadata": {},
   "outputs": [],
   "source": []
  }
 ],
 "metadata": {
  "kernelspec": {
   "display_name": "Python 3",
   "language": "python",
   "name": "python3"
  },
  "language_info": {
   "codemirror_mode": {
    "name": "ipython",
    "version": 3
   },
   "file_extension": ".py",
   "mimetype": "text/x-python",
   "name": "python",
   "nbconvert_exporter": "python",
   "pygments_lexer": "ipython3",
   "version": "3.8.8"
  }
 },
 "nbformat": 4,
 "nbformat_minor": 5
}
