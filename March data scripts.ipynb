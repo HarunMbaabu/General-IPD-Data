{
 "cells": [
  {
   "cell_type": "code",
   "execution_count": 2,
   "id": "a5203dc9-413e-4ab1-8d93-9b7269e0b2f9",
   "metadata": {},
   "outputs": [],
   "source": [
    "import pandas as pd "
   ]
  },
  {
   "cell_type": "code",
   "execution_count": 3,
   "id": "086668de-b79d-47d7-bf28-9deec8e1cc7a",
   "metadata": {},
   "outputs": [
    {
     "name": "stdout",
     "output_type": "stream",
     "text": [
      "DataFrame is written to Excel File successfully.\n"
     ]
    }
   ],
   "source": [
    "data = pd.read_csv(\"idp farmer order data .csv\")\n",
    "\n",
    "data.head()\n",
    "\n",
    "data.shape\n",
    "\n",
    "\n",
    "#Update date  for the desired report \n",
    "start_date = '2022-03-01'\n",
    "end_date = '2022-04-01'\n",
    "\n",
    "mask = (data['creationDate'] > start_date) & (data['creationDate'] <= end_date) \n",
    "\n",
    "\n",
    "data = data.loc[mask]\n",
    "\n",
    "\n",
    "data[\"creationDate\"] = pd.to_datetime(data[\"creationDate\"])  \n",
    "\n",
    "\n",
    "data = data.sort_values(by=\"creationDate\", ascending=False)\n",
    "\n",
    "\n",
    "#data.isnull().sum() \n",
    "\n",
    "data['creationDate'] = pd.to_datetime(data['creationDate']).dt.date \n",
    "\n",
    "\n",
    "#Alsowadetermining the name of the file\n",
    "data_file_name = 'March Input Platform Data .xlsx'\n",
    " \n",
    " \n",
    "#saving the excel\n",
    "data.to_excel(data_file_name)\n",
    "print('DataFrame is written to Excel File successfully.')"
   ]
  }
 ],
 "metadata": {
  "kernelspec": {
   "display_name": "Python 3",
   "language": "python",
   "name": "python3"
  },
  "language_info": {
   "codemirror_mode": {
    "name": "ipython",
    "version": 3
   },
   "file_extension": ".py",
   "mimetype": "text/x-python",
   "name": "python",
   "nbconvert_exporter": "python",
   "pygments_lexer": "ipython3",
   "version": "3.8.8"
  }
 },
 "nbformat": 4,
 "nbformat_minor": 5
}
